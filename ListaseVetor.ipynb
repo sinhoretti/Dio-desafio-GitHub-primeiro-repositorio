{
  "nbformat": 4,
  "nbformat_minor": 0,
  "metadata": {
    "colab": {
      "provenance": [],
      "authorship_tag": "ABX9TyN9tyec3OOUN+OGSM0rzM0O",
      "include_colab_link": true
    },
    "kernelspec": {
      "name": "python3",
      "display_name": "Python 3"
    },
    "language_info": {
      "name": "python"
    }
  },
  "cells": [
    {
      "cell_type": "markdown",
      "metadata": {
        "id": "view-in-github",
        "colab_type": "text"
      },
      "source": [
        "<a href=\"https://colab.research.google.com/github/sinhoretti/Dio-desafio-GitHub-primeiro-repositorio/blob/main/ListaseVetor.ipynb\" target=\"_parent\"><img src=\"https://colab.research.google.com/assets/colab-badge.svg\" alt=\"Open In Colab\"/></a>"
      ]
    },
    {
      "cell_type": "code",
      "execution_count": 36,
      "metadata": {
        "colab": {
          "base_uri": "https://localhost:8080/"
        },
        "id": "ldT0ehHB5Gbu",
        "outputId": "f3833ab0-fa5a-4389-fc04-7ef52403373b"
      },
      "outputs": [
        {
          "output_type": "stream",
          "name": "stdout",
          "text": [
            "Digite a quantidade de Alunos 4\n",
            "Digite o valor da nota do aluno: 5\n",
            "Digite o valor da nota do aluno: 5\n",
            "Digite o valor da nota do aluno: 5\n",
            "Digite o valor da nota do aluno: 5\n",
            "Nota do Aluno 1 é:  5.0\n",
            "Nota do Aluno 2 é:  5.0\n",
            "Nota do Aluno 3 é:  5.0\n",
            "Nota do Aluno 4 é:  5.0\n"
          ]
        }
      ],
      "source": [
        "#Iniciando uma sala de alunos e imprimindo a nota de cada um\n",
        "n=float(input(\"Digite a quantidade de Alunos \"))\n",
        "x=0\n",
        "y=0\n",
        "z=0\n",
        "vet=[0]\n",
        "while(z<n):\n",
        "  vet.append(0)\n",
        "  z+=1\n",
        "while(x<n):\n",
        "  vet[x]=float(input(\"Digite o valor da nota do aluno: \"))\n",
        "  x+=1\n",
        "while(y<n):\n",
        "  print(\"Nota do Aluno\",(y+1),\"é: \",(vet[y]))\n",
        "  y+=1\n",
        "\n",
        "  "
      ]
    },
    {
      "cell_type": "code",
      "source": [
        "#Cadastrando o nome dos alunos da sala\n",
        "n=float(input(\"Digite a quantidade de Alunos \"))\n",
        "x=0\n",
        "y=0\n",
        "z=0\n",
        "vet=[0]\n",
        "while(z<n):\n",
        "  vet.append(0)\n",
        "  z+=1\n",
        "while(x<n):\n",
        "  print(\"Digite o nome do aluno: \",x+1)\n",
        "  vet[x]=str(input())\n",
        "  x+=1\n",
        "while(y<n):\n",
        "  print(\"Nome do Aluno\",(y+1),\"é: \",(vet[y]))\n",
        "  y+=1"
      ],
      "metadata": {
        "colab": {
          "base_uri": "https://localhost:8080/"
        },
        "id": "JYA8C-RvJwNG",
        "outputId": "9c9fa383-bda6-43ec-a85f-c714593f2399"
      },
      "execution_count": 56,
      "outputs": [
        {
          "output_type": "stream",
          "name": "stdout",
          "text": [
            "Digite a quantidade de Alunos 3\n",
            "Digite o nome do aluno:  1\n",
            "Eliseu\n",
            "Digite o nome do aluno:  2\n",
            "Lira\n",
            "Digite o nome do aluno:  3\n",
            "Sinhoretti\n",
            "Nome do Aluno 1 é:  Eliseu\n",
            "Nome do Aluno 2 é:  Lira\n",
            "Nome do Aluno 3 é:  Sinhoretti\n"
          ]
        }
      ]
    },
    {
      "cell_type": "code",
      "source": [
        "#Consultando o nome dos alunos da sala\n",
        "n=float(input(\"Digite a quantidade de Alunos \"))#Inicializando a quantidade de alunos na sala\n",
        "x=0\n",
        "y=0\n",
        "z=0\n",
        "vet=[0]#Criando o Vetor\n",
        "while(z<n):\n",
        "  vet.append(0)#Inicializando o Vetor com a quantidade digitada\n",
        "  z+=1\n",
        "while(x<n):\n",
        "  print(\"Digite o nome do aluno: \",x+1)#Recebendo o nome dos alunos\n",
        "  vet[x]=str(input())\n",
        "  x+=1\n",
        "print(\"Digite o nome do aluno a procurar na sala!\")#Recebendo o nome do aluno a ser procurado\n",
        "nome = input()\n",
        "while(y<n):#Procurando o nome do aluno na sala e retornando a posição dele na sala\n",
        "  if(vet[y]==nome):\n",
        "    print(\"O Aluno \",nome,\" está na posição: \",y+1)\n",
        "    break\n",
        "  else:\n",
        "    y+=1\n"
      ],
      "metadata": {
        "colab": {
          "base_uri": "https://localhost:8080/"
        },
        "id": "lfHNZXKBNoZe",
        "outputId": "2754c64f-a5c3-4dea-be0c-a365cf6870a4"
      },
      "execution_count": 60,
      "outputs": [
        {
          "output_type": "stream",
          "name": "stdout",
          "text": [
            "Digite a quantidade de Alunos 2\n",
            "Digite o nome do aluno:  1\n",
            "Eliseu\n",
            "Digite o nome do aluno:  2\n",
            "Lira\n",
            "Digite o nome do aluno a procurar na sala!\n",
            "Lira\n",
            "O Aluno  Lira  está na posição:  2\n"
          ]
        }
      ]
    },
    {
      "cell_type": "code",
      "source": [
        "#Cadastrando a Sala\n",
        "#Deletando o Aluno da sala\n",
        "n=float(input(\"Digite a quantidade de Alunos \"))#Inicializando a quantidade de alunos na sala\n",
        "x=0\n",
        "y=0\n",
        "z=0\n",
        "vet=[0]#Criando o Vetor\n",
        "while(z<n):\n",
        "  vet.append(0)#Inicializando o Vetor com a quantidade digitada\n",
        "  z+=1\n",
        "while(x<n):\n",
        "  print(\"Digite o nome do aluno: \",x+1)#Recebendo o nome dos alunos\n",
        "  vet[x]=str(input())\n",
        "  x+=1\n",
        "print(\"Digite o nome do aluno a Remover na sala!\")#Recebendo o nome do aluno a ser procurado\n",
        "nome = input()\n",
        "while(y<n):#Procurando o nome do aluno na sala e retornando a posição dele na sala\n",
        "  if(vet[y]==nome):\n",
        "    print(\"Removendo o aluno:\",vet[y])\n",
        "    del vet[y]\n",
        "    vet[y]=\" \"\n",
        "    break\n",
        "  else:\n",
        "    y+=1\n",
        "tamanhoVetor=int(len(vet))\n",
        "x=0\n",
        "qtdAlunos=0\n",
        "while(x<tamanhoVetor):\n",
        "  if(vet[x]==\" \"):\n",
        "    qtdAlunos+=1\n",
        "  x+=1\n",
        "print(\"Quantidade de Alunos na Sala é: \",tamanhoVetor-qtdAlunos)"
      ],
      "metadata": {
        "colab": {
          "base_uri": "https://localhost:8080/"
        },
        "id": "_D8R53EBQJiI",
        "outputId": "1869316f-1682-4b68-93b1-d81809a42aac"
      },
      "execution_count": 72,
      "outputs": [
        {
          "output_type": "stream",
          "name": "stdout",
          "text": [
            "Digite a quantidade de Alunos 3\n",
            "Digite o nome do aluno:  1\n",
            "Eliseu\n",
            "Digite o nome do aluno:  2\n",
            "Lira\n",
            "Digite o nome do aluno:  3\n",
            "Paulo\n",
            "Digite o nome do aluno a Remover na sala!\n",
            "Paulo\n",
            "Removendo o aluno: Paulo\n",
            "Quantidade de Alunos na Sala é:  2\n"
          ]
        }
      ]
    },
    {
      "cell_type": "code",
      "source": [
        "#Sistema de Cadastro de produtos e peços\n"
      ],
      "metadata": {
        "id": "_UDqia5TXViO"
      },
      "execution_count": null,
      "outputs": []
    }
  ]
}