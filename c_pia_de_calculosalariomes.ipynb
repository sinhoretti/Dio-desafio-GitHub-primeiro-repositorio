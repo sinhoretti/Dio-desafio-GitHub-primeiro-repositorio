{
  "nbformat": 4,
  "nbformat_minor": 0,
  "metadata": {
    "colab": {
      "provenance": [],
      "authorship_tag": "ABX9TyO0zEoPPoCbNN8uQXQ9EwLt",
      "include_colab_link": true
    },
    "kernelspec": {
      "name": "python3",
      "display_name": "Python 3"
    },
    "language_info": {
      "name": "python"
    }
  },
  "cells": [
    {
      "cell_type": "markdown",
      "metadata": {
        "id": "view-in-github",
        "colab_type": "text"
      },
      "source": [
        "<a href=\"https://colab.research.google.com/github/sinhoretti/Dio-desafio-GitHub-primeiro-repositorio/blob/main/c_pia_de_calculosalariomes.ipynb\" target=\"_parent\"><img src=\"https://colab.research.google.com/assets/colab-badge.svg\" alt=\"Open In Colab\"/></a>"
      ]
    },
    {
      "cell_type": "code",
      "execution_count": null,
      "metadata": {
        "colab": {
          "base_uri": "https://localhost:8080/"
        },
        "id": "eibhkzxlJwP7",
        "outputId": "9eab7897-1da4-4a25-fe7a-e44e020e294d"
      },
      "outputs": [
        {
          "output_type": "stream",
          "name": "stdout",
          "text": [
            "Digite o seu nome! \n",
            "Eliseu\n",
            "Digite a sua Matricula:\n",
            "5913152\n",
            "Digite o Valor Ganho/Hora:\n",
            "100\n",
            "Digite Quantas Horas você Trabalhou:\n",
            "8\n",
            "\n",
            "Matricula:  5913152\n",
            "Nome Funcionário:  Eliseu\n",
            "Salário do Mês: R$ 800.00\n"
          ]
        }
      ],
      "source": [
        "#Sistema que Calcula o Salário do Mes de um funcionário baseado nas horas trabalhadas\n",
        "print(\"Digite o seu nome! \")\n",
        "nome = (input( ))\n",
        "print(\"Digite a sua Matricula:\")\n",
        "matricula = int(input( ))\n",
        "print(\"Digite o Valor Ganho/Hora:\")\n",
        "salarioHora = float(input())\n",
        "print(\"Digite Quantas Horas você Trabalhou:\")\n",
        "horastrab = int(input())\n",
        "salMes = float(horastrab*salarioHora)\n",
        "print(\"\\nMatricula: \", matricula)\n",
        "print(\"Nome Funcionário: \", nome)\n",
        "print(\"Salário do Mês: R$ {}\".format('%.2f'%salMes))\n"
      ]
    }
  ]
}