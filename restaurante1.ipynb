{
  "nbformat": 4,
  "nbformat_minor": 0,
  "metadata": {
    "colab": {
      "provenance": [],
      "authorship_tag": "ABX9TyNAqOZIMt5rkfX7JLHVAHub",
      "include_colab_link": true
    },
    "kernelspec": {
      "name": "python3",
      "display_name": "Python 3"
    },
    "language_info": {
      "name": "python"
    }
  },
  "cells": [
    {
      "cell_type": "markdown",
      "metadata": {
        "id": "view-in-github",
        "colab_type": "text"
      },
      "source": [
        "<a href=\"https://colab.research.google.com/github/sinhoretti/Dio-desafio-GitHub-primeiro-repositorio/blob/main/restaurante1.ipynb\" target=\"_parent\"><img src=\"https://colab.research.google.com/assets/colab-badge.svg\" alt=\"Open In Colab\"/></a>"
      ]
    },
    {
      "cell_type": "code",
      "execution_count": 10,
      "metadata": {
        "colab": {
          "base_uri": "https://localhost:8080/"
        },
        "id": "-hdkySFT6NxW",
        "outputId": "e38613d5-3190-4296-a52c-877dc5d3341e"
      },
      "outputs": [
        {
          "name": "stdout",
          "output_type": "stream",
          "text": [
            "\n",
            "Digite a sua opção!\n",
            "(1) Cadastrar um Produto\n",
            "(2) Vendas Restaurante\n",
            "(3) Fechar Mesa\n",
            "(0) Sair do programa\n",
            "0\n"
          ]
        }
      ],
      "source": [
        "#Escreva um código de comercio que forneça o nome de 5 produtos e o preço, o cliente escolhe o produto e quantas unidades o programa verifica com o cliente se a compra já finalizou para que retorne o valor total.\n",
        "vetproduto=[0]\n",
        "vetpreco=[0]\n",
        "vetMesaProd=[0]\n",
        "vetMesaQtd=[0]\n",
        "vetMesaTot=[0]\n",
        "mesa=0\n",
        "unidades=0\n",
        "opcao=1\n",
        "vlrTotal=0\n",
        "escolha=11\n",
        "z=0\n",
        " \n",
        "#Main()\n",
        "while((escolha==1) or (escolha==2) or (escolha==3) or (escolha==0) or (escolha==11)):\n",
        "  if(escolha==11):\n",
        "    print(\"\\nDigite a sua opção!\")\n",
        "    print(\"(1) Cadastrar um Produto\\n(2) Vendas Restaurante\\n(3) Fechar Mesa\\n(0) Sair do programa\")\n",
        "    escolha=int(input())\n",
        "    #Cadastrar um Produto\n",
        "  if(escolha==1):\n",
        "    #cadastrando a quantidade de produtos\n",
        "    x=int(input(\"Digite a Quantidade de Produtos: \"))\n",
        "    while(z<x):\n",
        "      vetproduto.append(0)\n",
        "      vetpreco.append(0)\n",
        "      z=z+1\n",
        "      #Cadastrando os Produtos e os Preços\n",
        "    z=0\n",
        "    while(z<x):\n",
        "      vetproduto[z]=str(input(\"Digite o Nome do produto \"))\n",
        "      vetpreco[z]=float(input(\"Digite o Preco do produto \"))\n",
        "      z=z+1\n",
        "      #Cadastrando as Mesas\n",
        "   \n",
        "    z=0\n",
        "    while(z<10):\n",
        "      vetMesaProd.append(0)\n",
        "      vetMesaQtd.append(0)\n",
        "      vetMesaTot.append(0)\n",
        "      z=z+1\n",
        "    escolha=11\n",
        "  #Vendas Restaurante\n",
        "  #Realizando a Venda\n",
        "  if(escolha==2):\n",
        "    while(opcao!=0):\n",
        "      print(\"\\nSeja Bem Vindo(a) a Restaurante da Bia!\")\n",
        "      print(\"\\n*Selecione o Prato\\n\")\n",
        "      z=0\n",
        "      while(z<((len(vetproduto)))):\n",
        "        print(\"Nº\",z+1,\"-\",vetproduto[z],\" R$\",vetpreco[z])\n",
        "        z=z+1\n",
        "      opcao=int(input(\"\\nEscolhar a Opção deseja, ou (0) para Sair:\"))\n",
        "      if(opcao==1):\n",
        "        mesa=int(input(\"Digite a Mesa:\"))\n",
        "        unidades=int(input(print(\"\\nDigite a Quantidade de Pratos de: \", vetproduto[0])))\n",
        "        vlrTotal=float(unidades*(float(vetpreco[0])))\n",
        "        vetMesaProd[mesa]=(vetproduto[0])\n",
        "        vetMesaQtd[mesa]=unidades\n",
        "        vetMesaTot[mesa]=vlrTotal\n",
        "        opcao=1\n",
        "      if(opcao==2):\n",
        "        mesa=int(input(\"Digite a Mesa:\"))\n",
        "        unidades=int(input(print(\"\\nDigite a Quantidade de Pratos de: \", vetproduto[1])))\n",
        "        vlrTotal=float(unidades*(float(vetpreco[1])))\n",
        "        vlrTotal=float(unidades*(float(vetpreco[1])))\n",
        "        vetMesaProd[mesa]=(vetproduto[1])\n",
        "        vetMesaQtd[mesa]=int(unidades)\n",
        "        vetMesaTot[mesa]=float(vlrTotal)\n",
        "        opcao=1\n",
        "      if(opcao==3):\n",
        "        mesa=int(input(\"Digite a Mesa:\"))\n",
        "        unidades=int(input(print(\"\\nDigite a Quantidade de Pratos de: \", vetproduto[2])))\n",
        "        vlrTotal=float(unidades*(float(vetpreco[2])))\n",
        "        vlrTotal=float(unidades*(float(vetpreco[2])))\n",
        "        vetMesaProd[mesa]=(vetproduto[2])\n",
        "        vetMesaQtd[mesa]=int(unidades)\n",
        "        vetMesaTot[mesa]=float(vlrTotal)\n",
        "        opcao=1\n",
        "      if(opcao==4):\n",
        "        mesa=int(input(\"Digite a Mesa:\"))\n",
        "        unidades=int(input(print(\"\\nDigite a Quantidade de Pratos de: \", vetproduto[3])))\n",
        "        vlrTotal=float(unidades*(float(vetpreco[3])))\n",
        "        vlrTotal=float(unidades*(float(vetpreco[3])))\n",
        "        vetMesaProd[mesa]=(vetproduto[3])\n",
        "        vetMesaQtd[mesa]=int(unidades)\n",
        "        vetMesaTot[mesa]=(vlrTotal)\n",
        "        opcao=1\n",
        "      if(opcao==5):\n",
        "        mesa=int(input(\"Digite a Mesa:\"))\n",
        "        unidades=int(input(print(\"\\nDigite a Quantidade de Pratos de: \", vetproduto[4])))\n",
        "        vlrTotal=float(unidades*(float(vetpreco[4])))\n",
        "        vlrTotal=float(unidades*(float(vetpreco[4])))\n",
        "        vetMesaProd[mesa]=(vetproduto[4])\n",
        "        vetMesaQtd[mesa]=int(unidades)\n",
        "        vetMesaTot[mesa]=(vlrTotal)\n",
        "        opcao=1\n",
        "      escolha=11\n",
        "  #Fechar Mesa\n",
        "  if(escolha==3):\n",
        "    mesa=int((input(\"Fechar Mesa: \")))\n",
        "    print(\"\\n\\nPrato: \",vetMesaProd[mesa],\"\\nQuantidade: \", vetMesaQtd[mesa],\"\\nTotal a Pagar: R$\", vetMesaTot[mesa])\n",
        "    escolha=11\n",
        "  #Sair do Programa\n",
        "  if(escolha==0):\n",
        "    escolha=10\n",
        "    break\n",
        "  "
      ]
    }
  ]
}