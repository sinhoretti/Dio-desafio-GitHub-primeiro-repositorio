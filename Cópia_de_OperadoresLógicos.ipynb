{
  "nbformat": 4,
  "nbformat_minor": 0,
  "metadata": {
    "colab": {
      "provenance": [],
      "authorship_tag": "ABX9TyP4Ilu7MIDy3bjKSZZVcOpm",
      "include_colab_link": true
    },
    "kernelspec": {
      "name": "python3",
      "display_name": "Python 3"
    },
    "language_info": {
      "name": "python"
    }
  },
  "cells": [
    {
      "cell_type": "markdown",
      "metadata": {
        "id": "view-in-github",
        "colab_type": "text"
      },
      "source": [
        "<a href=\"https://colab.research.google.com/github/sinhoretti/Dio-desafio-GitHub-primeiro-repositorio/blob/main/C%C3%B3pia_de_OperadoresL%C3%B3gicos.ipynb\" target=\"_parent\"><img src=\"https://colab.research.google.com/assets/colab-badge.svg\" alt=\"Open In Colab\"/></a>"
      ]
    },
    {
      "cell_type": "code",
      "execution_count": 3,
      "metadata": {
        "id": "JnXkNeEsijzF",
        "colab": {
          "base_uri": "https://localhost:8080/"
        },
        "outputId": "529f56c0-1a14-481f-a614-e77bedd50f4c"
      },
      "outputs": [
        {
          "output_type": "stream",
          "name": "stdout",
          "text": [
            "Digite o ano de seu Nascimento: 2020\n",
            "\n",
            "Voce nao votará neste Ano, Você ainda é menor de idade!\n"
          ]
        }
      ],
      "source": [
        "#Trabalhando com operadores lógicos em Python\n",
        "idade = int(input(\"Digite o ano de seu Nascimento: \"))\n",
        "maiorIdade = int(2023 - idade)\n",
        "if (maiorIdade > 16):\n",
        "  status = input(\"Você tem um Titulo de Eleitor?\")\n",
        "  if(status == 'Sim') or (status == 'sim') or (status == 'SIM'):\n",
        "     print('\\nVocê deverá votar neste Ano!')\n",
        "  else:\n",
        "    print('\\nDirija-se a um Cartório Eleitoral para solicitar o Seu Titulo de Eleitor!')\n",
        "    print('Você votará este Ano!')\n",
        "else:\n",
        "  print(\"\\nVoce nao votará neste Ano, Você ainda é menor de idade!\")\n",
        "\n"
      ]
    }
  ]
}