{
  "nbformat": 4,
  "nbformat_minor": 0,
  "metadata": {
    "colab": {
      "provenance": [],
      "authorship_tag": "ABX9TyOom4a13Ra8jxGQXiCrbusP",
      "include_colab_link": true
    },
    "kernelspec": {
      "name": "python3",
      "display_name": "Python 3"
    },
    "language_info": {
      "name": "python"
    }
  },
  "cells": [
    {
      "cell_type": "markdown",
      "metadata": {
        "id": "view-in-github",
        "colab_type": "text"
      },
      "source": [
        "<a href=\"https://colab.research.google.com/github/sinhoretti/Dio-desafio-GitHub-primeiro-repositorio/blob/main/Calculo_Triangulo.ipynb\" target=\"_parent\"><img src=\"https://colab.research.google.com/assets/colab-badge.svg\" alt=\"Open In Colab\"/></a>"
      ]
    },
    {
      "cell_type": "code",
      "execution_count": null,
      "metadata": {
        "colab": {
          "base_uri": "https://localhost:8080/"
        },
        "id": "02w5q7CJ42qy",
        "outputId": "9d3842a6-565a-4669-baa0-75a95300e288"
      },
      "outputs": [
        {
          "output_type": "stream",
          "name": "stdout",
          "text": [
            "Digite a medida do lado 1\n",
            "2\n",
            "Digite a medida do lado 2\n",
            "2\n",
            "Digite a medida do lado 3\n",
            "2\n",
            "\n",
            "Triângulo Equilátero!\n"
          ]
        }
      ],
      "source": [
        "#Caclulando o tipo de um triangulo\n",
        "print(\"Digite a medida do lado 1\")\n",
        "lado1=input()\n",
        "print(\"Digite a medida do lado 2\")\n",
        "lado2=input()\n",
        "print(\"Digite a medida do lado 3\")\n",
        "lado3=input()\n",
        "if(lado1 == lado2) and (lado1 == lado3):\n",
        "  print(\"\\nTriângulo Equilátero!\")\n",
        "elif(lado1 == lado2) or (lado1 == lado3):\n",
        "  print(\"\\nTriângulo Isóceles\")\n",
        "else:\n",
        "  print(\"\\nTriângulo Escaleno!\")\n"
      ]
    }
  ]
}