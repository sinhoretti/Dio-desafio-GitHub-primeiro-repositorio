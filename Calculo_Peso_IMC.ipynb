{
  "nbformat": 4,
  "nbformat_minor": 0,
  "metadata": {
    "colab": {
      "provenance": [],
      "authorship_tag": "ABX9TyNTp9cIlHlW8OBGo+0T0P69",
      "include_colab_link": true
    },
    "kernelspec": {
      "name": "python3",
      "display_name": "Python 3"
    },
    "language_info": {
      "name": "python"
    }
  },
  "cells": [
    {
      "cell_type": "markdown",
      "metadata": {
        "id": "view-in-github",
        "colab_type": "text"
      },
      "source": [
        "<a href=\"https://colab.research.google.com/github/sinhoretti/Dio-desafio-GitHub-primeiro-repositorio/blob/main/Calculo_Peso_IMC.ipynb\" target=\"_parent\"><img src=\"https://colab.research.google.com/assets/colab-badge.svg\" alt=\"Open In Colab\"/></a>"
      ]
    },
    {
      "cell_type": "code",
      "execution_count": null,
      "metadata": {
        "colab": {
          "base_uri": "https://localhost:8080/"
        },
        "id": "BsQYVrUuRa32",
        "outputId": "b8377285-0748-42ff-92cb-76c3365baa0b"
      },
      "outputs": [
        {
          "name": "stdout",
          "output_type": "stream",
          "text": [
            "\n",
            "Digite: (1) Peso ideal (2) Calculo IMC (3) Sair 1\n",
            "Digite: (1) PARA MASCULINO E (2) PARA FEMININO\n",
            "None1\n",
            "Digite a sua altura: \n",
            "None2\n",
            "\n",
            "O seu Peso Ideal é de: 87.40 Kg\n",
            "\n",
            "Digite: (1) Peso ideal (2) Calculo IMC (3) Sair 3\n"
          ]
        }
      ],
      "source": [
        "#Criando um programa de Calculo do IMC\n",
        "x=0\n",
        "while(x!=3):\n",
        "  selecao=int(input(\"\\nDigite: (1) Peso ideal (2) Calculo IMC (3) Sair \"))\n",
        "  sexo=0\n",
        "  if(selecao==2):\n",
        "    peso = float(input(\"Digite o seu peso atual: \")) #Lendo o peso atual\n",
        "    altura = float(input(\"Digite a sua Altura: \")) #Lendo a sua altura\n",
        "    imc = (peso/(altura*altura)) #Calculando a o peso ideal e atribuindo a variável pesoideal\n",
        "    if(imc<18.5):\n",
        "      print(\"\\nAbaixo do Peso!\")\n",
        "    if((imc>=18.5) and (imc<=24.9)):\n",
        "      print(\"\\nPeso Ideal Parabéns!!!\")\n",
        "    if((imc>=25) and (imc<=29.9)):\n",
        "      print(\"\\nLevemente Acima do Peso\")\n",
        "    if((imc>=30) and (imc<=34.9)):\n",
        "      print(\"\\nObesidade Grau (1)!!!\")\n",
        "    if((imc>=35) and (imc<=39.9)):\n",
        "      print(\"\\nObesidade Grau (2)!!!\")\n",
        "    if(imc>=40):\n",
        "      print(\"\\nObesidade Mórbida Grau (3)!!!\")\n",
        "    x=1\n",
        "  if(selecao==1):\n",
        "   sexo = int(input(print(\"Digite: (1) PARA MASCULINO E (2) PARA FEMININO\"))) #Lendo o Sexo\n",
        "   pesoideal=float(0)\n",
        "   if(sexo==1):\n",
        "    altura=float(input(print(\"Digite a sua altura: \")))\n",
        "    pesoideal=((72.7*altura)-58)\n",
        "    print(\"\\nO seu Peso Ideal é de: {} Kg\".format('%.2f'%pesoideal))#imprimndo o Peso Ideal Masculino\n",
        "  if(sexo==2):\n",
        "    altura=float(input(print(\"Digite a sua altura: \")))\n",
        "    pesoideal=((62.1*altura)-44.7)\n",
        "    print(\"\\nO seu Peso Ideal é de: {} Kg\".format('%.2f'%pesoideal))#imprimndo o Peso Ideal Feminino\n",
        "    x=2\n",
        "  if(selecao==3):\n",
        "    x=3\n"
      ]
    }
  ]
}