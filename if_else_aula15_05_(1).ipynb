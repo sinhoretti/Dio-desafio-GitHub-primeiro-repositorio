{
  "nbformat": 4,
  "nbformat_minor": 0,
  "metadata": {
    "colab": {
      "provenance": [],
      "include_colab_link": true
    },
    "kernelspec": {
      "name": "python3",
      "display_name": "Python 3"
    },
    "language_info": {
      "name": "python"
    }
  },
  "cells": [
    {
      "cell_type": "markdown",
      "metadata": {
        "id": "view-in-github",
        "colab_type": "text"
      },
      "source": [
        "<a href=\"https://colab.research.google.com/github/sinhoretti/Dio-desafio-GitHub-primeiro-repositorio/blob/main/if_else_aula15_05_(1).ipynb\" target=\"_parent\"><img src=\"https://colab.research.google.com/assets/colab-badge.svg\" alt=\"Open In Colab\"/></a>"
      ]
    },
    {
      "cell_type": "markdown",
      "source": [
        "**Escreva\tum\tprograma\tpara\tler\t3\tvalores\tinteiros\te\tescrever\to\tmaior\tdeles.\t\n",
        "Considere\tque\to\tusuário\tnão\tinformará\tvalores\tiguais.**"
      ],
      "metadata": {
        "id": "gqOCjhSRQbZk"
      }
    },
    {
      "cell_type": "code",
      "source": [
        "n1 = int (input(\"Digite o 1º numero: \"))\n",
        "n2 = int (input(\"Digite o 2º numero: \"))\n",
        "if(n2==n1):\n",
        "  while(n2 == n1):\n",
        "    print(\"\\nO numero {}, é igual ao 1º numero! Digite outro! \".format('%.f')%(n2))\n",
        "    n2 = int (input(\"Digite novamente o 2º numero: \"))\n",
        "if(n2 != n1):\n",
        "  n3 = int (input(\"Digite o 3º numero: \"))\n",
        "if(n3 == n2):\n",
        "   while(n3 == n2):\n",
        "    print(\"\\n O numero {}, é igual ao 2º numero! Digite outro! \".format('%.f')%(n3))\n",
        "    n3 = int (input(\"Digite novamente o 3º numero: \"))\n",
        "maior = 0\n",
        "if(maior < n1):\n",
        "  maior = n1\n",
        "if(maior < n2):\n",
        "  maior = n2\n",
        "if(maior < n3):\n",
        "  maior = n3\n",
        "print(\"\\nO maior numero Digitado é: \",maior)\n"
      ],
      "metadata": {
        "id": "3SPKmZo0QkpD",
        "colab": {
          "base_uri": "https://localhost:8080/"
        },
        "outputId": "1a33272a-d84c-441e-eb27-6a6f0e3139d1"
      },
      "execution_count": null,
      "outputs": [
        {
          "output_type": "stream",
          "name": "stdout",
          "text": [
            "Digite o 1º numero: 10\n",
            "Digite o 2º numero: 10\n",
            "\n",
            "O numero 10, é igual ao 1º numero! Digite outro! \n",
            "Digite novamente o 2º numero: 10\n",
            "\n",
            "O numero 10, é igual ao 1º numero! Digite outro! \n",
            "Digite novamente o 2º numero: 20\n",
            "Digite o 3º numero: 30\n",
            "\n",
            "O maior numero Digitado é:  30\n"
          ]
        }
      ]
    },
    {
      "cell_type": "markdown",
      "source": [
        "**Escreva\t um\t programa\t para\t ler\t 2\t valores\t (considere\t que\t \t não\t serão\t\n",
        "informados\tvalores\tiguais)\te\tescrever\to\tmaior\tdeles.**"
      ],
      "metadata": {
        "id": "FktdAjXfPih9"
      }
    },
    {
      "cell_type": "code",
      "source": [
        "30n1 = int (input(\"Digite o 1º numero: \"))\n",
        "n2 = int (input(\"Digite o 2º numero: \"))\n",
        "if(n2 == n1):\n",
        "  while(n2 == n1):\n",
        "    print(\"\\nO numero {}, é igual ao 1º numero! Digite outro! \".format('%.f')%(n2))\n",
        "    n2 = int (input(\"Digite novamente o 2º numero: \")) \n",
        "maior = 0\n",
        "if(maior < n1):\n",
        "  maior = n1\n",
        "if(maior < n2):\n",
        "  maior = n2\n",
        "print(\"\\nO maior numero Digitado é: \",maior)"
      ],
      "metadata": {
        "id": "CO310KG_PtP0",
        "colab": {
          "base_uri": "https://localhost:8080/"
        },
        "outputId": "6f6e091d-9d28-4d16-c665-95dd736844a2"
      },
      "execution_count": null,
      "outputs": [
        {
          "output_type": "stream",
          "name": "stdout",
          "text": [
            "Digite o 1º numero: 10\n",
            "Digite o 2º numero: 20\n",
            "\n",
            "O maior numero Digitado é:  20\n"
          ]
        }
      ]
    },
    {
      "cell_type": "markdown",
      "source": [
        "**Escreva\t um\t programa\t para\t ler\t o\t ano\t de\t nascimento\t de\t uma\t pessoa\t e\t\n",
        "escrever\t uma\t mensagem\t que\t diga\t se\t ela\t poderá\t ou\t não\t votar\t este\t ano\t\n",
        "(não\té\tnecessário\tconsiderar\to\tmês\tem\tque\tela\tnasceu).**"
      ],
      "metadata": {
        "id": "lIxARD25Pm-E"
      }
    },
    {
      "cell_type": "code",
      "execution_count": null,
      "metadata": {
        "id": "t-ywowgiPdhI",
        "colab": {
          "base_uri": "https://localhost:8080/"
        },
        "outputId": "f8669726-8fc9-41c1-b81c-9c98aa62c879"
      },
      "outputs": [
        {
          "output_type": "stream",
          "name": "stdout",
          "text": [
            "Digite a sua data de Nascimento (DD/MM/YYYY) : 10/10/2000\n",
            "Você já possui idade Eleitoral! irá votar! Sua idade é:  23 Anos!\n"
          ]
        }
      ],
      "source": [
        "from datetime import* \n",
        "d1, m1, y1 = [int(x) for x in input(\"Digite a sua data de Nascimento\"\n",
        "        \" (DD/MM/YYYY) : \").split('/')] \n",
        "datanasc = date(y1, m1, d1)\n",
        "datatual = date.today()\n",
        "ano = datatual.year\n",
        "idade1 = (ano - datanasc.year)\n",
        "idade2 = int(ano - datanasc.year)\n",
        "if(idade2 > 16):\n",
        "  print(\"Você já possui idade Eleitoral! irá votar! Sua idade é: \", idade2,\"Anos!\")\n",
        "else:\n",
        "  falta = 16 - idade1\n",
        "  anofinal = int(datatual.year + falta)\n",
        "  print(\"\\nVocê é menor de idade! Não votará este ano!\")\n",
        "  print(\"Você só votará em \", anofinal,\"!\")\n"
      ]
    },
    {
      "cell_type": "markdown",
      "source": [
        "**Escreva\t um\t programa\t que\t verifique\t a\t validade\t de\t uma\t senha\t fornecida\t\n",
        "pelo\t usuário.\t A\t senha\t válida\t é\t o\t número\t 1234.\tDevem\t ser\timpressas\t as\t\n",
        "seguintes\tmensagens:\t\n",
        "ACESSO\tPERMITIDO\tcaso\ta\tsenha\tseja\tválida.\t\n",
        "ACESSO\tNEGADO\tcaso\ta\tsenha\tseja\tinválida.**"
      ],
      "metadata": {
        "id": "3v7K4LL-Ptgs"
      }
    },
    {
      "cell_type": "code",
      "source": [
        "senha = input(\"Digite a Senha: \")\n",
        "senhavalida = '1234'\n",
        "if(senha != senhavalida):\n",
        "  x=1\n",
        "  while (x < 3):\n",
        "    if(senha != senhavalida):\n",
        "      print(\"\\nSenha Inválida! Digite Novamente!\")\n",
        "      senha = input(\"Digite a Senha: \")\n",
        "      x=x+1\n",
        "      if(x==3):\n",
        "        print(\"Esgotadas as 3 Tentativas! Acesso Negado!\")\n",
        "        break\n",
        "elif(senha == senhavalida):\n",
        "  print(\"ACESSO LIBERADO!\")"
      ],
      "metadata": {
        "id": "2rQiN3bjPwzd",
        "colab": {
          "base_uri": "https://localhost:8080/"
        },
        "outputId": "a7998f6a-969d-40c5-b856-2bac61bfc9e2"
      },
      "execution_count": null,
      "outputs": [
        {
          "name": "stdout",
          "output_type": "stream",
          "text": [
            "Digite a Senha: 102030\n",
            "\n",
            "Senha Inválida! Digite Novamente!\n",
            "Digite a Senha: 10230\n",
            "\n",
            "Senha Inválida! Digite Novamente!\n",
            "Digite a Senha: 10300\n",
            "\n",
            "Senha Inválida! Digite Novamente!\n",
            "Digite a Senha: 102030\n"
          ]
        }
      ]
    },
    {
      "cell_type": "markdown",
      "source": [
        "**As\tmaçãs\t custam\t RS\t 0,30\t cada\t se\t forem\t compradas\tmenos\t do\t que\t uma \n",
        "dúzia,\t e\t R$\t 0,25\t se\t forem\t compradas\t pelo\t menos\t doze.\t Escreva\t um\t\n",
        "programa\t que\t leia\t o\t número\t de\t maçãs\t compradas,\t calcule\t e\t escreva\t o\t\n",
        "valor\ttotal\tda\tcompra.**"
      ],
      "metadata": {
        "id": "rElvbVFKPzR9"
      }
    },
    {
      "cell_type": "code",
      "source": [
        "vlrduzia = float(0.30)\n",
        "vlrunit = float(0.25)\n",
        "qtde = int(input(\"Digite a quantidade de Maçãs: \"))\n",
        "mod = (qtde % 12)\n",
        "if(mod == 0):\n",
        "  print(\"O Valor a pagar é: R$ {}\".format('%.2f'%(qtde*vlrduzia)))\n",
        "else:\n",
        "  print(\"O Valor a pagar é: R$ {}\".format('%.2f'%(qtde*vlrunit)))"
      ],
      "metadata": {
        "id": "zeifl4suP2-F",
        "colab": {
          "base_uri": "https://localhost:8080/"
        },
        "outputId": "582080d2-f93a-40a4-d72e-c575a18399b1"
      },
      "execution_count": null,
      "outputs": [
        {
          "output_type": "stream",
          "name": "stdout",
          "text": [
            "Digite a quantidade de Maçãs: 12\n",
            "O Valor a pagar é: R$ 3.60\n"
          ]
        }
      ]
    },
    {
      "cell_type": "markdown",
      "source": [
        "**Escreva\t um\t programa\t para\t ler\t 3\t valores\t inteiros\t (considere\t que\t \t não\t\n",
        "serão\tlidos\tvalores\tiguais)\te\tescrevê-los\tem\tordem\tcrescente.**"
      ],
      "metadata": {
        "id": "uFV3XsQvP3J1"
      }
    },
    {
      "cell_type": "code",
      "source": [
        "n1 = int(input(\"Digite o 1º numero: \"))\n",
        "n2 = int(input(\"Digite o 2º numero: \"))\n",
        "if(n2==n1):\n",
        "  while(n2 == n1):\n",
        "    print(\"\\nO numero {}, é igual ao 1º numero! Digite outro! \".format('%.f')%(n2))\n",
        "    n2 = int (input(\"Digite novamente o 2º numero: \"))\n",
        "if(n2 != n1):\n",
        "  n3 = int (input(\"Digite o 3º numero: \"))\n",
        "if(n3 == n2):\n",
        "   while(n3 == n2):\n",
        "    print(\"\\n O numero {}, é igual ao 2º numero! Digite outro! \".format('%.f')%(n3))\n",
        "    n3 = int (input(\"Digite novamente o 3º numero: \"))\n",
        "vet = [0,1,2,3]\n",
        "if((n1<n2) and (n1<n3)):\n",
        "  vet[0]=n1\n",
        "  if(n2<n3):\n",
        "    vet[1]=n2\n",
        "    vet[2]=n3\n",
        "  else:\n",
        "    vet[1]=n3\n",
        "    vet[2]=n2\n",
        "if((n2<n1) and (n2<n3)):\n",
        "  vet[0]=n2\n",
        "  if(n1<n3):\n",
        "    vet[1]=n1\n",
        "    vet[2]=n3\n",
        "  else:\n",
        "    vet[1]=n3\n",
        "    vet[2]=n1\n",
        "if((n3<n1) and (n3<n2)):\n",
        "  vet[0]=n3\n",
        "  if(n1<n2):\n",
        "    vet[1]=n1\n",
        "    vet[2]=n2\n",
        "  else:\n",
        "    vet[1]=n2\n",
        "    vet[2]=n1\n",
        "print(\"\\nOs digitados em Ordem Crescente!\")\n",
        "print(vet[0],vet[1],vet[2])\n"
      ],
      "metadata": {
        "id": "7Td7nW8GQGAl",
        "colab": {
          "base_uri": "https://localhost:8080/"
        },
        "outputId": "488e3410-7e9a-4d8b-9313-4d89ee6f20ba"
      },
      "execution_count": null,
      "outputs": [
        {
          "output_type": "stream",
          "name": "stdout",
          "text": [
            "Digite o 1º numero: 5\n",
            "Digite o 2º numero: 7\n",
            "Digite o 3º numero: 1\n",
            "\n",
            "Os digitados em Ordem Crescente!\n",
            "1 5 7\n"
          ]
        }
      ]
    },
    {
      "cell_type": "markdown",
      "source": [
        "**Tendo\t como\t entrada\t a\t altura\t e\t o\t sexo\t (codificado\t da\t seguinte\t forma:\t\n",
        "1:feminino\t \t 2:masculino)\t de\t uma\t pessoa,\t construa\t um\t programa\t que\t\n",
        "calcule\te\timprima\tseu\tpeso\tideal,\tutilizando\tas\tseguintes\t\n",
        "Fórmulas:\t\n",
        "- para\thomens:\t(72.7\t*\tAltura)\t– 58\t\n",
        "- para\tmulheres:\t(62.1\t*\tAltura)\t– 44.7.**"
      ],
      "metadata": {
        "id": "bVJjueNlQGP0"
      }
    },
    {
      "cell_type": "code",
      "source": [
        "print(\"Digite: (1) PARA MASCULINO E (2) PARA FEMININO\")\n",
        "sexo=int(input())\n",
        "pesoideal=float(0)\n",
        "if(sexo==1):\n",
        "  print(\"Digite a sua altura: \")\n",
        "  altura=float(input())\n",
        "  pesoideal=((72.7*altura)-58)\n",
        "if(sexo==2):\n",
        "  print(\"Digite a sua altura: \")\n",
        "  altura=float(input())\n",
        "  pesoideal=((62.1*altura)-44.7)\n",
        "print(\"\\nO seu Peso Ideal é de: {} Kg\".format('%.2f'%pesoideal))"
      ],
      "metadata": {
        "id": "SiHsNczjQq0t",
        "colab": {
          "base_uri": "https://localhost:8080/"
        },
        "outputId": "92ec9b93-c722-4615-cb59-2fdcfc382f0a"
      },
      "execution_count": null,
      "outputs": [
        {
          "output_type": "stream",
          "name": "stdout",
          "text": [
            "Digite: (1) PARA MASCULINO E (2) PARA FEMININO\n",
            "2\n",
            "Digite a sua altura: \n",
            "1.60\n",
            "\n",
            "O seu Peso Ideal é de: 54.66 Kg\n"
          ]
        }
      ]
    },
    {
      "cell_type": "markdown",
      "source": [
        "**Acrescente\t as\t seguintes\t mensagens\t à\t solução\t do\t exercício\t anterior\t\n",
        "conforme\to\tcaso.\t\n",
        "− Caso\t o\t número\t de\t lados\t seja\t inferior\t a\t 3\t escrever\t NÃO\t É\t UM\t\n",
        "POLÍGONO.\t\n",
        "− Caso\to\tnúmero\tde\tlados\tseja\tsuperior\ta\t5\tescrever\tPOLÍGONO\tNÃO\t\n",
        "IDENTIFICADO.**"
      ],
      "metadata": {
        "id": "q0UZH0xTQW9k"
      }
    },
    {
      "cell_type": "code",
      "source": [
        "qtdelados = 1\n",
        "lado = 0\n",
        "area = 0\n",
        "perimetro = 0\n",
        "nome = 'nome'\n",
        "while (qtdelados<3):\n",
        "  qtdelados = int(input(\"Digite a quantidade de lados do Polígono: \"))\n",
        "  if(qtdelados<3):\n",
        "    print(\"\\nQuantidade de lados Inválida! Digite novamente!\")\n",
        "lado = float(input(\"Digite a medida do lado do poligono em cm : \"))\n",
        "if(qtdelados==3): #Triangulo\n",
        "  nome = 'Triangulo'\n",
        "  area = float(lado * lado /2)\n",
        "  print(\"\\nO valor da área é {} cm²\".format('%.2f'%area))\n",
        "\n",
        "if(qtdelados==4): #Quadrado\n",
        "  nome = (\"Quadrado\")\n",
        "  area = float(lado*lado)\n",
        "  print(\"\\nO valor da área é {} cm²\".format('%.2f'%area))\n",
        "\n",
        "if(qtdelados==5):#Pentágono\n",
        "  nome = 'Pentágono'\n",
        "\n",
        "if(qtdelados==6): #Hexágono\n",
        "  nome = 'Hexágono'\n",
        "\n",
        "print(\"\\nTrata-se deu um \",nome)"
      ],
      "metadata": {
        "id": "TioIBMv3QMSN"
      },
      "execution_count": null,
      "outputs": []
    },
    {
      "cell_type": "markdown",
      "source": [
        "**Escreva\tum\tprograma\tpara\tler\to\tnúmero\tde\tlados\tde\tum\tpolígono\tregular\t\n",
        "e\ta\tmedida\tdo\tlado\t(em\tcm).\tCalcular\te\timprimir\to\tseguinte:\t\n",
        "− Se\to\tnúmero\tde\tlados\tfor\tigual\ta\t3\tescrever\tTRIÂNGULO\te\to\tvalor\tda\t\n",
        "área\n",
        "− Se\to\tnúmero\tde\tlados\tfor\tigual\ta\t4\tescrever\tQUADRADO\te\to\tvalor\tda\t\n",
        "sua\tárea.\t\n",
        "− Se\to\tnúmero\tde\tlados\tfor\tigual\ta\t5\tescrever\tPENTÁGONO.**"
      ],
      "metadata": {
        "id": "Oqz7B1o0QSbV"
      }
    },
    {
      "cell_type": "code",
      "source": [
        "qtdelados = 1\n",
        "lado = 0\n",
        "area = 0\n",
        "perimetro = 0\n",
        "nome = 'nome'\n",
        "while (qtdelados<3):\n",
        "  qtdelados = int(input(\"Digite a quantidade de lados do Polígono: \"))\n",
        "  if(qtdelados<3):\n",
        "    print(\"\\nQuantidade de lados Inválida! Digite novamente!\")\n",
        "lado = float(input(\"Digite a medida do lado do poligono em cm : \"))\n",
        "if(qtdelados==3): #Triangulo\n",
        "  nome = 'Triangulo'\n",
        "  area = float(lado * lado /2)\n",
        "  print(\"\\nO valor da área é {} cm²\".format('%.2f'%area))\n",
        "\n",
        "if(qtdelados==4): #Quadrado\n",
        "  nome = (\"Quadrado\")\n",
        "  area = float(lado*lado)\n",
        "  print(\"\\nO valor da área é {} cm²\".format('%.2f'%area))\n",
        "\n",
        "if(qtdelados==5):#Pentágono\n",
        "  nome = 'Pentágono'\n",
        "\n",
        "if(qtdelados==6): #Hexágono\n",
        "  nome = 'Hexágono'\n",
        "\n",
        "print(\"\\nTrata-se deu um \",nome)\n",
        "    "
      ],
      "metadata": {
        "id": "JeEtFCpBQSFN",
        "colab": {
          "base_uri": "https://localhost:8080/"
        },
        "outputId": "819cc93a-e236-4e48-853c-1f6a81cf4c0f"
      },
      "execution_count": null,
      "outputs": [
        {
          "output_type": "stream",
          "name": "stdout",
          "text": [
            "Digite a quantidade de lados do Polígono: 2\n",
            "\n",
            "Quantidade de lados Inválida! Digite novamente!\n",
            "Digite a quantidade de lados do Polígono: 5\n",
            "Digite a medida do lado do poligono em cm : 2\n",
            "\n",
            "Trata-se deu um  Pentágono\n"
          ]
        }
      ]
    }
  ]
}