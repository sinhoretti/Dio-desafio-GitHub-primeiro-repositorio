{
  "nbformat": 4,
  "nbformat_minor": 0,
  "metadata": {
    "colab": {
      "provenance": [],
      "include_colab_link": true
    },
    "kernelspec": {
      "name": "python3",
      "display_name": "Python 3"
    },
    "language_info": {
      "name": "python"
    }
  },
  "cells": [
    {
      "cell_type": "markdown",
      "metadata": {
        "id": "view-in-github",
        "colab_type": "text"
      },
      "source": [
        "<a href=\"https://colab.research.google.com/github/sinhoretti/Dio-desafio-GitHub-primeiro-repositorio/blob/main/Eliseu_S_Lira.ipynb\" target=\"_parent\"><img src=\"https://colab.research.google.com/assets/colab-badge.svg\" alt=\"Open In Colab\"/></a>"
      ]
    },
    {
      "cell_type": "markdown",
      "source": [
        "**Escreva um programa que leia um número inteiro, adicione o valor 2 a esse número e informe o resultado.**"
      ],
      "metadata": {
        "id": "3Z3f41qcSKvX"
      }
    },
    {
      "cell_type": "code",
      "source": [
        "#Criando um Sistema que lê um Numero Interio e adciona o valor 2 a ele\n",
        "n1 = int(input('Digite um Numero Inteiro '))\n",
        "n1 = n1 + 2\n",
        "print('O Numero digitado adicionado mais 2 é igual a: {}'.format(n1))"
      ],
      "metadata": {
        "id": "PT_DY_1VTfUY",
        "colab": {
          "base_uri": "https://localhost:8080/"
        },
        "outputId": "1862f862-19ef-467b-c374-517f445ec24f"
      },
      "execution_count": null,
      "outputs": [
        {
          "output_type": "stream",
          "name": "stdout",
          "text": [
            "Digite um Numero 2\n",
            "O Numero digitado adicionado mais 2 é igual a: 4\n"
          ]
        }
      ]
    },
    {
      "cell_type": "markdown",
      "source": [
        "**Escreva um código que leia dois valores inteiros (A e B) e efetue as 4 operações básicas (adição, subtração,multiplicação e divisão) de A por B, apresentando ao final os quatro resultados obtidos.**"
      ],
      "metadata": {
        "id": "V9HgXxFbTUfC"
      }
    },
    {
      "cell_type": "code",
      "source": [
        "#Criando um Sistema que lê 2 numeros interios e execute as 4 operações matemáticas básica\n",
        "n1 = int(input(\"Digite o 1º Numero Inteiro \"))\n",
        "n2 = int(input(\"Digite o 2º Numero Inteiro \"))\n",
        "#Imprimindo a soma dos dois numeros inteiros digitados\n",
        "print('A SOMA DOS NUMEROS INTEIROS TOTALIZAM:', n1+n2)\n",
        "#Imprimindo a subtração dos dois numeros inteiros digitados\n",
        "print('A SUBTRAÇÃO DOS NUMEROS INTEIROS TOTALIZAM:', n1-n2)\n",
        "#Imprimindo a multiplicação dos dois numeros inteiros digitados\n",
        "print('A MULTIPLICAÇÂO DOS NUMEROS INTEIROS TOTALIZAM:', n1*n2)\n",
        "#Imprimindo a divisão dos dois numeros inteiros digitados\n",
        "print('A DIVISÃO DOS NUMEROS INTEIROS TOTALIZA:', n1/n2)"
      ],
      "metadata": {
        "id": "Te58qtOLSKOU",
        "colab": {
          "base_uri": "https://localhost:8080/"
        },
        "outputId": "16c5ac8f-f60c-40da-d569-d0c0f817d9c5"
      },
      "execution_count": null,
      "outputs": [
        {
          "output_type": "stream",
          "name": "stdout",
          "text": [
            "Digite o 1º Numero Inteiro 10\n",
            "Digite o 2º Numero Inteiro 10\n",
            "A SOMA DOS NUMEROS INTEIROS TOTALIZA: 20\n"
          ]
        }
      ]
    },
    {
      "cell_type": "markdown",
      "source": [
        "**Escreva um programa que exiba o resultado de 2a × 3b, onde a vale \n",
        "3 e b vale 5.**"
      ],
      "metadata": {
        "id": "BpAHggxeQ9ba"
      }
    },
    {
      "cell_type": "code",
      "execution_count": null,
      "metadata": {
        "id": "yctlEgIPGg-9",
        "colab": {
          "base_uri": "https://localhost:8080/"
        },
        "outputId": "9c8f1dbf-888f-42d3-cc32-5b2cca89f29d"
      },
      "outputs": [
        {
          "output_type": "stream",
          "name": "stdout",
          "text": [
            "Resolvendo a equação 2a x 3b - onde a = 3 e b = 5!\n",
            "2a é igual a:  6\n",
            "3b é igual a:  15\n",
            "O Resultado da equação 2a x 3b é igual a:  90\n"
          ]
        }
      ],
      "source": [
        "#Criando um Sistema que Resolva uma equação simples\n",
        "print('Resolvendo a equação 2a x 3b - onde a = 3 e b = 5!')\n",
        "#Calculando o valor de 2a e armazenando em n1\n",
        "n1 = 2*3\n",
        "#Calculando o valor de 3b e armazenando em n2\n",
        "n2 = 3*5\n",
        "print('2a é igual a: ', n1) \n",
        "print('3b é igual a: ', n2)\n",
        "print('O Resultado da equação 2a x 3b é igual a: ', n1*n2)"
      ]
    },
    {
      "cell_type": "markdown",
      "source": [
        "**Escreva um programa que receba a três notas e retorne a média da nota do aluno. Atenção: as notas devem ser digitadas pelo usuário do programa!**"
      ],
      "metadata": {
        "id": "yY0mfRwvRdYR"
      }
    },
    {
      "cell_type": "code",
      "source": [
        "#Criando um Sistema que lê a 3 notas de uma determinado aluno e imprima a média!\n",
        "#Lendo a 1º Nota\n",
        "n1 = float(input(\"Digite a 1º Nota \"))\n",
        "#Lendo a 2º Nota\n",
        "n2 = float(input(\"Digite a 2º Nota \"))\n",
        "#Lendo a 3º Nota\n",
        "n3 = float(input(\"Digite a 3º Nota \"))\n",
        "#Calculando a média e armazenando na variável média\n",
        "media = float((n1+n2+n3)/3)\n",
        "#Imprimindo o valor da média\n",
        "print('A média do Aluno é: ', media)"
      ],
      "metadata": {
        "id": "6SHK5Fq6SBGH",
        "colab": {
          "base_uri": "https://localhost:8080/"
        },
        "outputId": "43bc3b4c-8ac4-4533-dae6-66d318b65e88"
      },
      "execution_count": null,
      "outputs": [
        {
          "output_type": "stream",
          "name": "stdout",
          "text": [
            "Digite a 1º Nota 10\n",
            "Digite a 2º Nota 10.5\n",
            "Digite a 3º Nota 7.25\n",
            "A média do Aluno é:  9.25\n"
          ]
        }
      ]
    },
    {
      "cell_type": "markdown",
      "source": [
        "**Escreva um programa que leia o total de vendas de um vendedor e calcule a sua comissão. Considere que a comissão do vendedor seja de 10% do total de vendas.**"
      ],
      "metadata": {
        "id": "MtbwRuWjTqNq"
      }
    },
    {
      "cell_type": "code",
      "source": [
        "#Criando um Sistema que lê o total de Vendas de um vendedor e calcule sua comissão\n",
        "totalVendas = float(input(\"Digite o total das Vendas: R$ \"))\n",
        "print('A Valor da Comissão será de: R$ ',totalVendas*0.10)"
      ],
      "metadata": {
        "id": "AhMbFf76T0BA",
        "colab": {
          "base_uri": "https://localhost:8080/"
        },
        "outputId": "3144df2d-3f64-41ad-b1e8-6b0256d7867e"
      },
      "execution_count": null,
      "outputs": [
        {
          "output_type": "stream",
          "name": "stdout",
          "text": [
            "Digite o total das Vendas: R$ 10\n",
            "A Valor da Comissão será de: R$  1.0\n"
          ]
        }
      ]
    },
    {
      "cell_type": "markdown",
      "source": [
        "**Crie programa para realizar a conversão de moedas entre dólar e real. Ler um valor em dolar e a cotação do dólar do dia, converter o valor em dólares para real e mostrar o resultado.**"
      ],
      "metadata": {
        "id": "hZ7nYQiVT0pa"
      }
    },
    {
      "cell_type": "code",
      "source": [
        "#Criando um Sistema que Calcula a conversão de Dolar para Real\n",
        "#Lendo a cotação de Dolar do Dia e armazenando em uma variável\n",
        "#Lendo a quantidade de dolar\n",
        "qtddolar = float(input(\"Digite o Valor $ \"))\n",
        "#Lendo a cotação do dia\n",
        "cotacaoDolar = float(input(\"\\nDigite o Valor da Cotação do Dolar Hoje: R$ \"))\n",
        "#Calculando o Valor em Real\n",
        "print('\\n Valor em real é de: R$ ', cotacaoDolar*qtddolar)\n"
      ],
      "metadata": {
        "id": "ZowuOU2KUPWO",
        "colab": {
          "base_uri": "https://localhost:8080/"
        },
        "outputId": "4fae6f04-34cb-4389-972a-7832b83ded62"
      },
      "execution_count": null,
      "outputs": [
        {
          "output_type": "stream",
          "name": "stdout",
          "text": [
            "Digite o Valor $ 500\n",
            "\n",
            "Digite o Valor da Cotação do Dolar Hoje: R$ 5.38\n",
            "\n",
            " Valor em real é de: R$  2690.0\n"
          ]
        }
      ]
    },
    {
      "cell_type": "markdown",
      "source": [
        "**Crie um programa que calcule o consumo médio de combustível de um veículo. Ler uma distância percorrida (em quilômetros), bem como o total de combustível gasto (em litros). Ao final informar o consumo (km/l) ao usuário.**"
      ],
      "metadata": {
        "id": "PU3XWgYHUaLh"
      }
    },
    {
      "cell_type": "code",
      "source": [
        "#Criando um Sistema que Calcula o consumo médio de combustível de um veículo\n",
        "#Lendo a distância percorrida e armazenando em uma variável\n",
        "kmpercorridos = float(input(\"Digite a quantidade de KM percorridos : \"))\n",
        "#Lendo a quantidade de litros consumidos\n",
        "litrosconsumidos = float(input(\"Digite a Quantidade de Litros: \"))\n",
        "#Imprimindo a Média de Consumo do Veículo\n",
        "print('\\n O Consumo do véculo é de {} KM/Litros '.format('%.1f'%(kmpercorridos/litrosconsumidos)))"
      ],
      "metadata": {
        "id": "9szyW3MzUZ05",
        "colab": {
          "base_uri": "https://localhost:8080/"
        },
        "outputId": "4e3ac6fe-ca40-4d5c-fc9d-ee94c50a9ffb"
      },
      "execution_count": null,
      "outputs": [
        {
          "output_type": "stream",
          "name": "stdout",
          "text": [
            "Digite a quantidade de KM percorridos : 409.8\n",
            "Digite a Quantidade de Litros: 38.4\n",
            "\n",
            " O Consumo do véculo é de 10.7 KM/Litros \n"
          ]
        }
      ]
    },
    {
      "cell_type": "markdown",
      "source": [
        "**Crie um programa que retorne o custo total para forrar uma sala com carpete. O programa deve solicitar as medidas da sala em metros (comprimento e largura) e o preço do metro quadrado do carpete.**"
      ],
      "metadata": {
        "id": "EC1Px0O1UrcM"
      }
    },
    {
      "cell_type": "code",
      "source": [
        "#Criando um Sistema que Calcula o custo para aplicação de Carpete em uma Sala.\n",
        "#Lendo a variável Comprimento\n",
        "comprimento = float(input(\"Digite o Comprimento da Sala em m2: \"))\n",
        "#Lendo a variável Largura\n",
        "largura = float(input(\"Digite a Largura da Sala em m2: \"))\n",
        "#Lendo a variável Valor do m2\n",
        "m2 = float(input(\"Digite o valor do Metro Quadrado(m2): \"))\n",
        "print('\\n O Custo total da obra é de: R$ {} !'.format('%.1f'%((comprimento*largura)*m2)))"
      ],
      "metadata": {
        "id": "gyTNk1PMU8tq",
        "colab": {
          "base_uri": "https://localhost:8080/"
        },
        "outputId": "33983536-b37f-4408-9f9b-ab635f43217b"
      },
      "execution_count": null,
      "outputs": [
        {
          "output_type": "stream",
          "name": "stdout",
          "text": [
            "Digite o Comprimento da Sala em m2: 100\n",
            "Digite a Largura da Sala em m2: 30\n",
            "Digite o valor do Metro Quadrado(m2): 200.00\n",
            "\n",
            " O Custo total da obra é de: R$ 600000.0 !\n"
          ]
        }
      ]
    },
    {
      "cell_type": "markdown",
      "source": [
        "**Crie um programa que recebe o tamanho da base e da altura de um retângulo, calculando a sua área e o seu perímetro.**"
      ],
      "metadata": {
        "id": "1OT4eU1cU8AD"
      }
    },
    {
      "cell_type": "code",
      "source": [
        "#Criando um Sistema que calcula o tamanho da Base e Perimetro do Retangulo\n",
        "#Lendo a Base do retangulo\n",
        "base = float(input(\"Digite o valor da Base: \"))\n",
        "#Lendo a Altura do retangulo\n",
        "altura = float(input(\"Digite o valor da Altura: \"))\n",
        "#Calculando a área\n",
        "area = base * altura\n",
        "#Calculando o Perímetro\n",
        "perimetro = ((2 * base) + (2 * altura))\n",
        "#Imprimindo o Valor da área e do perímetro\n",
        "print('\\nO Valor da Área é:     {} m2'.format('%.2f'%area))\n",
        "print('O Valor do Perimetro é: {} m2'.format('%.2f'%perimetro))"
      ],
      "metadata": {
        "id": "ziQ7BJ4QWO16",
        "colab": {
          "base_uri": "https://localhost:8080/"
        },
        "outputId": "7ce9f249-28b8-4f40-e2d1-1e8f8cf3cfe0"
      },
      "execution_count": null,
      "outputs": [
        {
          "output_type": "stream",
          "name": "stdout",
          "text": [
            "Digite o valor da Base: 20\n",
            "Digite o valor da Altura: 10\n",
            "\n",
            "O Valor da Área é:     200.00 m2\n",
            "O Valor do Perimetro é: 60.00 m2\n"
          ]
        }
      ]
    },
    {
      "cell_type": "markdown",
      "source": [
        "**Crie um programa que receba o tamanho do lado de um quadrado, calculando a área e o perímetro do mesmo**"
      ],
      "metadata": {
        "id": "3k6DL-D8WO_h"
      }
    },
    {
      "cell_type": "code",
      "source": [
        "#Criando um Sistema que calcula a área e o perímetro de um quadrado\n",
        "#Lendo o valor do lado do Quadrado\n",
        "lado1 = float(input(\"Digite o valor do Lado do Quadrado: \"))\n",
        "#Calculando a área\n",
        "area = lado1 * lado1\n",
        "#Calculando o Perímetro\n",
        "perimetro = (lado1 * 4)\n",
        "#Imprimindo o Valor da área e do perímetro\n",
        "print('\\nO Valor da Área é:     {} m2'.format('%.2f'%area))\n",
        "print('O Valor do Perimetro é: {} m2'.format('%.2f'%perimetro))"
      ],
      "metadata": {
        "id": "_AHiilQVW2dx",
        "colab": {
          "base_uri": "https://localhost:8080/"
        },
        "outputId": "00663127-292c-4f78-ee2d-8da99ebbc62f"
      },
      "execution_count": null,
      "outputs": [
        {
          "output_type": "stream",
          "name": "stdout",
          "text": [
            "Digite o valor do Lado do Quadrado: 10\n",
            "\n",
            "O Valor da Área é:     100.00 m2\n",
            "O Valor do Perimetro é: 40.00 m2\n"
          ]
        }
      ]
    },
    {
      "cell_type": "markdown",
      "source": [
        "**Crie um programa que receba o tamanho do raio de uma circunferência, calculando a área e o perímetro da mesma.**"
      ],
      "metadata": {
        "id": "gwm9muzJW3Ep"
      }
    },
    {
      "cell_type": "code",
      "source": [
        "#Criando um Sistema que lê o Raio de uma circunferencia e calcula o seu perímetro\n",
        "#Lendo o valor do raio da circunferencia\n",
        "raio = float(input(\"Digite o valor do Raio da Circunferencia: \"))\n",
        "#Calculando do Perimetro\n",
        "perimetro = float((2*raio) * 3.14)\n",
        "#Calculando da Area\n",
        "area = float(3.14*(raio*raio))\n",
        "#Imprimindo o Valor da área e do perímetro\n",
        "print('\\nO Valor da Área é:     {} m2'.format('%.2f'%area))\n",
        "print('O Valor do Perimetro é: {} m2'.format('%.2f'%perimetro))"
      ],
      "metadata": {
        "id": "TWUMatSIXJ6C",
        "colab": {
          "base_uri": "https://localhost:8080/"
        },
        "outputId": "a6303d1c-3da7-43f6-be5e-cea1160ac0cd"
      },
      "execution_count": null,
      "outputs": [
        {
          "output_type": "stream",
          "name": "stdout",
          "text": [
            "Digite o valor do Raio da Circunferencia: 25\n",
            "\n",
            "O Valor da Área é:     1962.50 m2\n",
            "O Valor do Perimetro é: 157.00 m2\n"
          ]
        }
      ]
    },
    {
      "cell_type": "markdown",
      "source": [
        "**Criar um código que leia um número inteiro e exiba o seu sucessor.**"
      ],
      "metadata": {
        "id": "THn0WDlOXN6R"
      }
    },
    {
      "cell_type": "code",
      "source": [
        "#Criando um Sistema que lê um numero inteiro e retorna o seu sucessor\n",
        "#Lendo o número inteiro\n",
        "n1 = int(input(\"Digite o valor do numero Interiro: \"))\n",
        "#Imprimindo o sucessor do numero lido anteriormente.\n",
        "print('O Sucessor do Numero ({}) é: {} '.format('%.f'%n1,(n1+1)))"
      ],
      "metadata": {
        "id": "eBwPQIGFXhOg",
        "colab": {
          "base_uri": "https://localhost:8080/"
        },
        "outputId": "655ea88a-86b2-4968-88b7-2a795bb46a3f"
      },
      "execution_count": null,
      "outputs": [
        {
          "output_type": "stream",
          "name": "stdout",
          "text": [
            "Digite o valor do numero Interiro: 10\n",
            "O Sucessor do Numero (10) é: 11 \n"
          ]
        }
      ]
    },
    {
      "cell_type": "markdown",
      "source": [
        "**Crie um programa que leia dois números inteiros e exiba o quociente e o resto da divisão entre eles.**"
      ],
      "metadata": {
        "id": "Aup2noIAXh7S"
      }
    },
    {
      "cell_type": "code",
      "source": [
        "#Criando um Sistema que lê 2 Numeros inteiros e imprime o quociente e o resto da divisão\n",
        "#Lendo o 1º numero inteiro\n",
        "n1 = int(input(\"Digite o valor do 1º numero Interiro: \"))\n",
        "#Lendo o 2º numero inteiro\n",
        "n2 = int(input(\"Digite o valor do 2º numero Interiro: \"))\n",
        "#Armazenando o módulo da divisão (n1/n2) na variável modulo\n",
        "modulo = n1%n2\n",
        "#Imprimindo o Quociente e o Modulo da divisão\n",
        "print('\\nO Quociente da Divisão é: ', n1/n2)\n",
        "print('O Resto da Divisão é:       ', modulo)"
      ],
      "metadata": {
        "id": "5NL-BGg2X3xY",
        "colab": {
          "base_uri": "https://localhost:8080/"
        },
        "outputId": "02cdc8c5-b96f-48c9-fa47-57e12602fbce"
      },
      "execution_count": null,
      "outputs": [
        {
          "output_type": "stream",
          "name": "stdout",
          "text": [
            "Digite o valor do 1º numero Interiro: 12\n",
            "Digite o valor do 2º numero Interiro: 5\n",
            "\n",
            "O Quociente da Divisão é:  2.4\n",
            "O Resto da Divisão é:        2\n"
          ]
        }
      ]
    },
    {
      "cell_type": "markdown",
      "source": [
        "**Faça um algoritmo que calcule e apresente o valor do volume de uma lata de óleo, dado seu raio e sua altura.**"
      ],
      "metadata": {
        "id": "MDaWf25sX4Gq"
      }
    },
    {
      "cell_type": "code",
      "source": [
        "#Criando um Sistema que calcule o Volume de uma Lata !\n",
        "#Lendo o Raio\n",
        "raio = float(input(\"Digite o valor do Raio da Lata (em cm): \"))\n",
        "altura = float(input(\"Digite o valor da Altura da Lata (em cm): \"))\n",
        "volume = float(3.14 * ((raio*raio)*altura))\n",
        "litros = float(volume / 1000)\n",
        "#Imprimindo o Valor da volume da lata\n",
        "print('\\nO Valor do Volume da Lata de Óleo é: {} cm3 '.format('%.1f'%volume))\n",
        "print('Equivalente a: {} Litros'.format('%.3f'%litros))"
      ],
      "metadata": {
        "id": "yhXEhioEYRIk",
        "colab": {
          "base_uri": "https://localhost:8080/"
        },
        "outputId": "377f59ab-aef6-4948-f309-a27969f0287d"
      },
      "execution_count": null,
      "outputs": [
        {
          "output_type": "stream",
          "name": "stdout",
          "text": [
            "Digite o valor do Raio da Lata (em cm): 50\n",
            "Digite o valor da Altura da Lata (em cm): 100\n",
            "\n",
            "O Valor do Volume da Lata de Óleo é: 785000.0 cm3 \n",
            "Equivalente a: 785.000 Litros\n"
          ]
        }
      ]
    },
    {
      "cell_type": "markdown",
      "source": [
        "**Faça um código que converta uma medida em km para metros e centímetros.**"
      ],
      "metadata": {
        "id": "iTA3HD0LYRhi"
      }
    },
    {
      "cell_type": "code",
      "source": [
        "#Criando um Sistema que converta uma medida de KM para mt e cm\n",
        "#Lendo o Km\n",
        "km = float(input(\"Digite o KM: \"))\n",
        "metros = km * 1000\n",
        "cm = metros * 100\n",
        "#Imprimindo o Valor dos Metros e Centimetros\n",
        "print('\\nO Valor dos KM em Metros é: {} mt'.format('%.f'%metros))\n",
        "print('O Valor dos KM em Centimetros é: {} cm'.format('%.f'%cm))"
      ],
      "metadata": {
        "id": "hlXw3tBdZLTq",
        "colab": {
          "base_uri": "https://localhost:8080/"
        },
        "outputId": "d6808591-5bc0-4d9b-ab6f-a802fb47da01"
      },
      "execution_count": null,
      "outputs": [
        {
          "output_type": "stream",
          "name": "stdout",
          "text": [
            "Digite o KM: 1000\n",
            "\n",
            "O Valor dos KM em Metros é: 1000000 mt\n",
            "O Valor dos KM em Centimetros é: 100000000 cm\n"
          ]
        }
      ]
    },
    {
      "cell_type": "markdown",
      "source": [
        "**Um empresário te contratou para criar um programa que ajude seus funcionários a calcular o desconto nos itens vendidos. Esse programa deverá permitir que o funcionário digite o preço da compra e também insira quantos por cento será o desconto, retornando o preço original da compra, o total do desconto, bem como o valor final com o desconto.**"
      ],
      "metadata": {
        "id": "Dt7OsUqVZLv5"
      }
    },
    {
      "cell_type": "code",
      "source": [
        "#Criando um Sistema para uma empresa\n",
        "#lendo o preço da compra\n",
        "precocompra = float(input(\"Digite o valor de Compra: \"))\n",
        "desconto1 = int(input(\"Digite o valor de Desconto: \"))\n",
        "desconto2 = float(desconto1 / 100)\n",
        "totaldesconto = precocompra * desconto2\n",
        "precototal = precocompra - (precocompra * desconto2)\n",
        "print('\\nO total da compra foi de: R$ {}'.format('%.2f'%precocompra))\n",
        "print('O desconto será de: ',(desconto1),'%')\n",
        "print('O Você ganhou um desconto de: R$ {}'.format('%.2f'%(precocompra * desconto2)) )\n",
        "print('O valor total a Pagar: R$ {}'.format('%.2f'%(precototal)))\n"
      ],
      "metadata": {
        "id": "6Dxu57hlaasa",
        "colab": {
          "base_uri": "https://localhost:8080/"
        },
        "outputId": "b3d3f198-b00d-42bd-b01f-96d35973a513"
      },
      "execution_count": null,
      "outputs": [
        {
          "output_type": "stream",
          "name": "stdout",
          "text": [
            "Digite o valor de Compra: 100.50\n",
            "Digite o valor de Desconto: 10\n",
            "\n",
            "O total da compra foi de: R$ 100.50\n",
            "O desconto será de:  10 %\n",
            "O Você ganhou um desconto de: R$ 10.05\n",
            "O valor total a Pagar: R$ 90.45\n"
          ]
        }
      ]
    }
  ]
}